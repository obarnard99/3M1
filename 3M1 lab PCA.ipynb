{
 "cells": [
  {
   "cell_type": "markdown",
   "metadata": {},
   "source": [
    "### 3M1 Mathematical Methods - computer laboratory exercise 2019\n",
    "# Principal Component Analysis\n",
    "\n",
    "This laboratory introduces principal component analysis (PCA), which is one of the most commonly used and simplest data analysis techniques. It is a straightforward application of Singular Value Decomposition (SVD), so this exercise also serves to show a practical application of SVD.\n",
    "\n",
    "The structure of this notebook is as follows:\n",
    "\n",
    "1. Preliminaries: Python notebooks\n",
    "1. Problem statement\n",
    "1. Importing data\n",
    "1. Plotting\n",
    "1. PCA \"theory\"\n",
    "1. Low dimensional worked example: vertebral diagnosis\n",
    "1. Intructions to do PCA analysis for a larger example: cancer gene expressions\n",
    "\n",
    "The exercise should take a couple of hours, including setup and learning your way around how Python handles matrices. You will spend a considerable amount of time just reading the example below. Assessment will be in the form of a quiz on moodle, to be released in in a couple of weeks. "
   ]
  },
  {
   "cell_type": "markdown",
   "metadata": {},
   "source": [
    "## Preliminaries\n",
    "\n",
    "The focus of this lab is linear algebra, not programming, but obviously one needs some way to instruct a computer to carry out linear algebra. The easiest way to achieve this is via Python, and in the environment of Notebooks. Think of it as a very very powerful calculator. \n",
    "\n",
    "There are many ways to work with Python Notebooks, including running it completely on your own computer, but for now the simplest is to use online tools. Cambridge University has an agreement with Microsoft that results in every CrsID being a valid login to their [Azure computing cloud](https://notebooks.azure.com). \n",
    "\n",
    "This notebook is located (amongst other places) in [my workspace](https://notebooks.azure.com/GaborCsanyi/libraries/3M1lab) within Azure, and if you click on the preceding link, you will be taken there. In order to run the notebook, click on \"clone\", which might ask you to log in, but after that you have your own copy. Running in opens up the notebook in a separate tab, and you can click on every text or computation cell. Shift-enter executes the computation and shows you the result. Use the buttons to create a new cell and add some numbers together! Who needs a calculator anymore? The examples below will introduce you to manipulating matrices, and also to simple plotting of graphs. \n",
    "\n",
    "You can create your own notebooks, run and save them within Azure. Later on, you might want to install a Python system such as [Anaconda](https://anaconda.org/) which lets you program in Python on your own computer, including running notebooks locally. "
   ]
  },
  {
   "cell_type": "markdown",
   "metadata": {},
   "source": [
    "## Problem statement\n",
    "\n",
    "Suppose we have a data set that consists of $N$ instances of something, and each instance has $M$ attributes. We would like to understand this dataset better: in which attribute do a lot of the instances differ the most? Are there groups of instances which share similar attributes? Can we summarise the data better by combining several attributes together? Principal component analysis provides a simple answer to all of these questions. The key word is \"simple\" here, in fact all relationships that PCA lets you discover are _linear_ in the original attributes. There might be more complex relationships which are beyond PCA. \n",
    "\n",
    "To make it concrete, let us examine a data set from [UC Irvine Machine Learning Repository](http://archive.ics.uci.edu/ml/index.php), specifically one on the [vertebral column](http://archive.ics.uci.edu/ml/datasets/Vertebral+Column). Each instance is a patient, the six features correspond to six biomechanical attributes. Some of the patients are healthy (\"normal\"), others have either disk hernia or spondilolysthesis. The data analysis task is ultimately to learn if the biomechanical features are predictors of the health status, and if so, which ones or which combinations. \n"
   ]
  },
  {
   "cell_type": "markdown",
   "metadata": {},
   "source": [
    "## Importing the data"
   ]
  },
  {
   "cell_type": "markdown",
   "metadata": {},
   "source": [
    "We will load the data into a matrix $X$, in which each row corresponds to a patient, and each column corresponds one of the six biomechanical features: pelvic incidence, pelvic tilt, lumbar lordosis angle, sacral slope, pelvic radius and grade of spondylolisthesis. The elements of the matrix are real numbers. "
   ]
  },
  {
   "cell_type": "code",
   "execution_count": 1,
   "metadata": {},
   "outputs": [],
   "source": [
    "import numpy as np # First we load the Python library that helps with manipulating data"
   ]
  },
  {
   "cell_type": "code",
   "execution_count": 2,
   "metadata": {},
   "outputs": [],
   "source": [
    "X = np.genfromtxt('vertebral_column_data.csv', delimiter=',') # the data is in a CVS file"
   ]
  },
  {
   "cell_type": "markdown",
   "metadata": {},
   "source": [
    "Let's find out how many patients we have, and confirm that there are indeed six features"
   ]
  },
  {
   "cell_type": "code",
   "execution_count": 3,
   "metadata": {},
   "outputs": [
    {
     "data": {
      "text/plain": [
       "(310, 7)"
      ]
     },
     "execution_count": 3,
     "metadata": {},
     "output_type": "execute_result"
    }
   ],
   "source": [
    "X.shape"
   ]
  },
  {
   "cell_type": "markdown",
   "metadata": {},
   "source": [
    "The \".shape\" attribute of a matrix is a \"tuple\", in this case a pair of numbers, the first shows the number of rows, the second shows the number of columns. So why are there 7 columns?? The last one is the diagnosis made by a doctor, with a \"1\" corresponding to \"disk hernia\", \"2\" corresponding to \"spondilolysthesis\", and \"3\" corresponding to \"normal\". Let us examine some elements of the matrix."
   ]
  },
  {
   "cell_type": "code",
   "execution_count": 4,
   "metadata": {},
   "outputs": [
    {
     "data": {
      "text/plain": [
       "array([[ 63.03,  22.55,  39.61, ...,  98.67,  -0.25,   1.  ],\n",
       "       [ 39.06,  10.06,  25.02, ..., 114.41,   4.56,   1.  ],\n",
       "       [ 68.83,  22.22,  50.09, ..., 105.99,  -3.53,   1.  ],\n",
       "       ...,\n",
       "       [ 61.45,  22.69,  46.17, ..., 125.67,  -2.71,   3.  ],\n",
       "       [ 45.25,   8.69,  41.58, ..., 118.55,   0.21,   3.  ],\n",
       "       [ 33.84,   5.07,  36.64, ..., 123.95,  -0.2 ,   3.  ]])"
      ]
     },
     "execution_count": 4,
     "metadata": {},
     "output_type": "execute_result"
    }
   ],
   "source": [
    "X"
   ]
  },
  {
   "cell_type": "markdown",
   "metadata": {},
   "source": [
    "Not all elements are printed, just a few. We can inspect a given row, for example the first one, corresponding to the first patient. Beware that indices in Python start with 0."
   ]
  },
  {
   "cell_type": "code",
   "execution_count": 5,
   "metadata": {},
   "outputs": [
    {
     "data": {
      "text/plain": [
       "array([63.03, 22.55, 39.61, 40.48, 98.67, -0.25,  1.  ])"
      ]
     },
     "execution_count": 5,
     "metadata": {},
     "output_type": "execute_result"
    }
   ],
   "source": [
    "X[0,:]"
   ]
  },
  {
   "cell_type": "markdown",
   "metadata": {},
   "source": [
    "The \":\" symbol in place of an index represents \"all\" the elements. We can look at a column as well, e.g. the first one, which corresponds to the first attribute of every patient. "
   ]
  },
  {
   "cell_type": "code",
   "execution_count": 6,
   "metadata": {},
   "outputs": [
    {
     "data": {
      "text/plain": [
       "array([ 63.03,  39.06,  68.83,  69.3 ,  49.71,  40.25,  53.43,  45.37,\n",
       "        43.79,  36.69,  49.71,  31.23,  48.92,  53.57,  57.3 ,  44.32,\n",
       "        63.83,  31.28,  38.7 ,  41.73,  43.92,  54.92,  63.07,  45.54,\n",
       "        36.13,  54.12,  26.15,  43.58,  44.55,  66.88,  50.82,  46.39,\n",
       "        44.94,  38.66,  59.6 ,  31.48,  32.09,  35.7 ,  55.84,  52.42,\n",
       "        35.49,  46.44,  53.85,  66.29,  56.03,  50.91,  48.33,  41.35,\n",
       "        40.56,  41.77,  55.29,  74.43,  50.21,  30.15,  41.17,  47.66,\n",
       "        43.35,  46.86,  43.2 ,  48.11,  74.38,  89.68,  44.53,  77.69,\n",
       "        76.15,  83.93,  78.49,  75.65,  72.08,  58.6 ,  72.56,  86.9 ,\n",
       "        84.97,  55.51,  72.22,  70.22,  86.75,  58.78,  67.41,  47.74,\n",
       "        77.11,  74.01,  88.62,  81.1 ,  76.33,  45.44,  59.79,  44.91,\n",
       "        56.61,  71.19,  81.66,  70.95,  85.35,  58.1 ,  94.17,  57.52,\n",
       "        96.66,  74.72,  77.66,  58.52,  84.59,  79.94,  70.4 ,  49.78,\n",
       "        77.41,  65.01,  65.01,  78.43,  63.17,  68.61,  63.9 ,  85.  ,\n",
       "        42.02,  69.76,  80.99, 129.83,  70.48,  86.04,  65.54,  60.75,\n",
       "        54.74,  83.88,  80.07,  65.67,  74.72,  48.06,  70.68,  80.43,\n",
       "        90.51,  77.24,  50.07,  69.78,  69.63,  81.75,  52.2 ,  77.12,\n",
       "        88.02,  83.4 ,  72.05,  85.1 ,  69.56,  89.5 ,  85.29,  60.63,\n",
       "        60.04,  85.64,  85.58,  55.08,  65.76,  79.25,  81.11,  48.03,\n",
       "        63.4 ,  57.29,  41.19,  66.8 ,  79.48,  44.22,  57.04,  64.27,\n",
       "        92.03,  67.26, 118.14, 115.92,  53.94,  83.7 ,  56.99,  72.34,\n",
       "        95.38,  44.25,  64.81,  78.4 ,  56.67,  50.83,  61.41,  56.56,\n",
       "        67.03,  80.82,  80.65,  68.72,  37.9 ,  64.62,  75.44,  71.  ,\n",
       "        81.06,  91.47,  81.08,  60.42,  85.68,  82.41,  43.72,  86.47,\n",
       "        74.47,  70.25,  72.64,  71.24,  63.77,  58.83,  74.85,  75.3 ,\n",
       "        63.36,  67.51,  76.31,  73.64,  56.54,  80.11,  95.48,  74.09,\n",
       "        87.68,  48.26,  38.51,  54.92,  44.36,  48.32,  45.7 ,  30.74,\n",
       "        50.91,  38.13,  51.62,  64.31,  44.49,  54.95,  56.1 ,  69.4 ,\n",
       "        89.83,  59.73,  63.96,  61.54,  38.05,  43.44,  65.61,  53.91,\n",
       "        43.12,  40.68,  37.73,  63.93,  61.82,  62.14,  69.  ,  56.45,\n",
       "        41.65,  51.53,  39.09,  34.65,  63.03,  47.81,  46.64,  49.83,\n",
       "        47.32,  50.75,  36.16,  40.75,  42.92,  63.79,  72.96,  67.54,\n",
       "        54.75,  50.16,  40.35,  63.62,  54.14,  74.98,  42.52,  33.79,\n",
       "        54.5 ,  48.17,  46.37,  52.86,  57.15,  37.14,  51.31,  42.52,\n",
       "        39.36,  35.88,  43.19,  67.29,  51.33,  65.76,  40.41,  48.8 ,\n",
       "        50.09,  64.26,  53.68,  49.  ,  59.17,  67.8 ,  61.73,  33.04,\n",
       "        74.57,  44.43,  36.42,  51.08,  34.76,  48.9 ,  46.24,  46.43,\n",
       "        39.66,  45.58,  66.51,  82.91,  50.68,  89.01,  54.6 ,  34.38,\n",
       "        45.08,  47.9 ,  53.94,  61.45,  45.25,  33.84])"
      ]
     },
     "execution_count": 6,
     "metadata": {},
     "output_type": "execute_result"
    }
   ],
   "source": [
    "X[:,0]"
   ]
  },
  {
   "cell_type": "markdown",
   "metadata": {},
   "source": [
    "## Basic plotting"
   ]
  },
  {
   "cell_type": "markdown",
   "metadata": {},
   "source": [
    "We don't get very far in comprehending even this small data set by just looking at the numbers. So let us plot a few a few things. For example, we can make a scatterplot of all the patients, using the first two attributes as x and y axes."
   ]
  },
  {
   "cell_type": "code",
   "execution_count": 9,
   "metadata": {},
   "outputs": [],
   "source": [
    "from pylab import * # import some shortcuts to plotting functionality"
   ]
  },
  {
   "cell_type": "code",
   "execution_count": 10,
   "metadata": {},
   "outputs": [
    {
     "data": {
      "image/png": "[encoded data removed]",
      "text/plain": [
       "<Figure size 432x288 with 1 Axes>"
      ]
     },
     "metadata": {
      "needs_background": "light"
     },
     "output_type": "display_data"
    }
   ],
   "source": [
    "scatter(X[:,0], X[:,1])\n",
    "plt.show()"
   ]
  },
  {
   "cell_type": "markdown",
   "metadata": {},
   "source": [
    "It is clear that there are big variations in the first two attributes, and they are not entirely uncorrelated. Here is the same for the third and fourth:"
   ]
  },
  {
   "cell_type": "code",
   "execution_count": 11,
   "metadata": {},
   "outputs": [
    {
     "data": {
      "image/png": "[encoded data removed]",
      "text/plain": [
       "<Figure size 432x288 with 1 Axes>"
      ]
     },
     "metadata": {
      "needs_background": "light"
     },
     "output_type": "display_data"
    }
   ],
   "source": [
    "scatter(X[:,2], X[:,3])\n",
    "plt.show()"
   ]
  },
  {
   "cell_type": "markdown",
   "metadata": {},
   "source": [
    "Again there are correlations, with a couple of outliers. "
   ]
  },
  {
   "cell_type": "markdown",
   "metadata": {},
   "source": [
    "We can also plot histograms of all six attributes, coloured according to the diagnosis. First we create index lists corresponding to patients with a given diagnosis."
   ]
  },
  {
   "cell_type": "code",
   "execution_count": 12,
   "metadata": {},
   "outputs": [],
   "source": [
    "# This creates a list of indices for which the 7th column of X is 1,\n",
    "# ie. those patients who have been diagnosed with disk hernia\n",
    "\n",
    "diagnosis = X[:,6]\n",
    "dh = [index for index,value in enumerate(diagnosis) if value == 1]\n",
    "\n",
    "# same for spondilolysthesis\n",
    "sl = [index for index,value in enumerate(diagnosis) if value == 2]\n",
    "# and for normal patients\n",
    "no = [index for index,value in enumerate(diagnosis) if value == 3]"
   ]
  },
  {
   "cell_type": "code",
   "execution_count": 14,
   "metadata": {},
   "outputs": [
    {
     "data": {
      "image/png": "[encoded data removed]",
      "text/plain": [
       "<Figure size 432x288 with 1 Axes>"
      ]
     },
     "metadata": {
      "needs_background": "light"
     },
     "output_type": "display_data"
    },
    {
     "data": {
      "image/png": "[encoded data removed]",
      "text/plain": [
       "<Figure size 432x288 with 1 Axes>"
      ]
     },
     "metadata": {
      "needs_background": "light"
     },
     "output_type": "display_data"
    },
    {
     "data": {
      "image/png": "[encoded data removed]",
      "text/plain": [
       "<Figure size 432x288 with 1 Axes>"
      ]
     },
     "metadata": {
      "needs_background": "light"
     },
     "output_type": "display_data"
    },
    {
     "data": {
      "image/png": "[encoded data removed]",
      "text/plain": [
       "<Figure size 432x288 with 1 Axes>"
      ]
     },
     "metadata": {
      "needs_background": "light"
     },
     "output_type": "display_data"
    },
    {
     "data": {
      "image/png": "[encoded data removed]",
      "text/plain": [
       "<Figure size 432x288 with 1 Axes>"
      ]
     },
     "metadata": {
      "needs_background": "light"
     },
     "output_type": "display_data"
    },
    {
     "data": {
      "image/png": "[encoded data removed]",
      "text/plain": [
       "<Figure size 432x288 with 1 Axes>"
      ]
     },
     "metadata": {
      "needs_background": "light"
     },
     "output_type": "display_data"
    }
   ],
   "source": [
    "plt.hist(X[dh,0], alpha=0.7)\n",
    "plt.hist(X[sl,0], alpha=0.7)\n",
    "plt.hist(X[no,0], alpha=0.7)\n",
    "legend([\"DH\", \"SL\", \"NO\"])\n",
    "title(\"attribute 1\")\n",
    "plt.show()\n",
    "plt.hist(X[dh,1], alpha=0.7)\n",
    "plt.hist(X[sl,1], alpha=0.7)\n",
    "plt.hist(X[no,1], alpha=0.7)\n",
    "title(\"attribute 2\")\n",
    "plt.show()\n",
    "plt.hist(X[dh,2], alpha=0.7)\n",
    "plt.hist(X[sl,2], alpha=0.7)\n",
    "plt.hist(X[no,2], alpha=0.7)\n",
    "title(\"attribute 3\")\n",
    "plt.show()\n",
    "plt.hist(X[dh,3], alpha=0.7)\n",
    "plt.hist(X[sl,3], alpha=0.7)\n",
    "plt.hist(X[no,3], alpha=0.7)\n",
    "title(\"attribute 4\")\n",
    "plt.show()\n",
    "plt.hist(X[dh,4], alpha=0.7)\n",
    "plt.hist(X[sl,4], alpha=0.7)\n",
    "plt.hist(X[no,4], alpha=0.7)\n",
    "title(\"attribute 5\")\n",
    "plt.show()\n",
    "plt.hist(X[dh,5], alpha=0.7)\n",
    "plt.hist(X[sl,5], alpha=0.7)\n",
    "plt.hist(X[no,5], alpha=0.7)\n",
    "title(\"attribute 6\")\n",
    "plt.show()\n"
   ]
  },
  {
   "cell_type": "markdown",
   "metadata": {},
   "source": [
    "It is obvious from the histograms, that the population of patients with spondilolysthesis are quite different in their statistics, but there are big overlaps in all the attributes with the other two populations, and it would be difficult to point to a single attribute that allows the identification of that condition. PCA will come to the rescue. \n",
    "\n",
    "The other two populations, those patients with disk hernia and those who are healthy overlap almost perfectly in their distributions when each attribute is considered in isolation. It remains to be seen whether we will be able to separate the these to populations by considering all the attributes together. \n"
   ]
  },
  {
   "cell_type": "markdown",
   "metadata": {},
   "source": [
    "You might think that just using the scatter plot of two attributes solves this problem. Let's try it:"
   ]
  },
  {
   "cell_type": "code",
   "execution_count": 15,
   "metadata": {},
   "outputs": [
    {
     "data": {
      "image/png": "[encoded data removed]",
      "text/plain": [
       "<Figure size 432x288 with 1 Axes>"
      ]
     },
     "metadata": {
      "needs_background": "light"
     },
     "output_type": "display_data"
    }
   ],
   "source": [
    "scatter(X[dh,0], X[dh,1])\n",
    "scatter(X[sl,0], X[sl,1])\n",
    "scatter(X[no,0], X[no,1])\n",
    "xlabel(\"attribute 1\")\n",
    "ylabel(\"attribute 2\")\n",
    "plt.show()"
   ]
  },
  {
   "cell_type": "markdown",
   "metadata": {},
   "source": [
    "The groups are somewhat better separated, but we have arbitrarily chosen the first two attributes, and there is still considerable overlap."
   ]
  },
  {
   "cell_type": "markdown",
   "metadata": {},
   "source": [
    "## PCA theory\n",
    "\n",
    "#### The optimal rotation of the data ellipsoid\n",
    "\n",
    "What PCA tries to do, is to find linear combinations of the attributes which, when used as new variables, allow the best separation of the data. Another way of saying the same thing is to find new variables whose values \"explain\" the most variation in the data, in order. Yet another way is to imagine the data as an ellipsoidal cloud in the higher dimensional attribute-space, and finding the orthogonal axes of this ellipsoid, in order, first the \"longest\" axis, then the second longest, etc. \n",
    "\n",
    "A formal way of saying this is that first we are looking for a vector $w_1$, such that the data projected onto this vector has the largest variance, i.e. \n",
    "\n",
    "$$\n",
    "w_1 = {\\rm arg} \\max_{w} \\sum_i^N (X_i \\cdot w)^2\n",
    "$$\n",
    "\n",
    "where $X_i$ is the vector corresponding to the attributes of patient $i$. This is equivalent to maximising \n",
    "\n",
    "$$\n",
    "wX^T Xw\n",
    "$$\n",
    "\n",
    "which is achieved by the eigenvector of $X^T X$ with the largest eigenvalue. The second axis of the ellipsoid will be the eigenvector with the second largest eigenvalue, etc. \n",
    "\n",
    "Note that above we implicitly assumed that the mean of the data is zero along all attributes, so we will have to normalise the data to achieve this, i.e. subtract the mean value from each attribute. And since we are only interesting in finding the directions of the orthogonal axes, it is also customary to multiply each attribute by a scalar so that their variances are unity. "
   ]
  },
  {
   "cell_type": "markdown",
   "metadata": {},
   "source": [
    "Before going further, let us write a function that normalises any data matrix, this will be useful later on!"
   ]
  },
  {
   "cell_type": "code",
   "execution_count": 16,
   "metadata": {},
   "outputs": [],
   "source": [
    "def normalise(x):\n",
    "    ndata,ndim = x.shape # obtain the number of rows and columns\n",
    "    m = x.sum(axis=0)     # compute the sum along each column, and collect it into a vector\n",
    "    #print m\n",
    "    x0 = x - m[np.newaxis,:]/ndata # subtract the sum divided by the number of rows from each element\n",
    "                                   # the \"np.newaxis\" construct creates identical rows from the same mean value\n",
    "\n",
    "    s = np.sqrt((x0**2).sum(axis=0)/ndata) # now compute the standard deviation of each column\n",
    "    #print x\n",
    "    #print s\n",
    "    ss = np.array([ tmp if tmp != 0 else 1 for tmp in s]) # if the standard deviation is zero, replace it with 1\n",
    "                                                       # to avoid division by zero error\n",
    "    x00 = x0 / ss[np.newaxis,:]    # divide each element by the corresponding standard deviation\n",
    "    return x00                     # return the normalised data matrix"
   ]
  },
  {
   "cell_type": "markdown",
   "metadata": {},
   "source": [
    "## Worked example"
   ]
  },
  {
   "cell_type": "markdown",
   "metadata": {},
   "source": [
    "Having written the function, let us apply it to our data matrix X"
   ]
  },
  {
   "cell_type": "code",
   "execution_count": 8,
   "metadata": {},
   "outputs": [],
   "source": [
    "X0 = normalise(X[:,0:6]) # we only normalise the attributes, so the first 6 columns, \n",
    "                         # not the last column, that's the diagnosis!"
   ]
  },
  {
   "cell_type": "markdown",
   "metadata": {},
   "source": [
    "We can verify that its attributes now have zero mean:"
   ]
  },
  {
   "cell_type": "code",
   "execution_count": 9,
   "metadata": {},
   "outputs": [
    {
     "data": {
      "text/plain": [
       "array([  7.77156117e-15,  -3.23963079e-13,  -1.11022302e-14,\n",
       "         4.01900735e-14,  -6.09845507e-13,  -6.85007606e-14])"
      ]
     },
     "execution_count": 9,
     "metadata": {},
     "output_type": "execute_result"
    }
   ],
   "source": [
    "X0.sum(axis=0)"
   ]
  },
  {
   "cell_type": "markdown",
   "metadata": {},
   "source": [
    "close enough!"
   ]
  },
  {
   "cell_type": "markdown",
   "metadata": {},
   "source": [
    "Now we form the $X^T X$ matrix (using the normalised data), and obtain its eigenvalues and eigenvectors:"
   ]
  },
  {
   "cell_type": "code",
   "execution_count": 70,
   "metadata": {},
   "outputs": [],
   "source": [
    "# There are several ways to multiply matrices, depending on how they are created. \n",
    "# in the current case, using the matmul() function is one way. \n",
    "XTX = np.matmul(np.transpose(X0), X0) \n"
   ]
  },
  {
   "cell_type": "markdown",
   "metadata": {},
   "source": [
    "Now we compute the eigenvectors and eigenvalues. Indeed this calculator is simple to use!"
   ]
  },
  {
   "cell_type": "code",
   "execution_count": 83,
   "metadata": {},
   "outputs": [],
   "source": [
    "evals,evecs = np.linalg.eigh(XTX)"
   ]
  },
  {
   "cell_type": "markdown",
   "metadata": {},
   "source": [
    "The first object returned is an array of eigenvalues:"
   ]
  },
  {
   "cell_type": "code",
   "execution_count": 84,
   "metadata": {},
   "outputs": [
    {
     "data": {
      "text/plain": [
       "array([  1.53349544e-05,   1.01063819e+02,   1.46482960e+02,\n",
       "         2.35941802e+02,   3.70320971e+02,   1.00619043e+03])"
      ]
     },
     "execution_count": 84,
     "metadata": {},
     "output_type": "execute_result"
    }
   ],
   "source": [
    "evals"
   ]
  },
  {
   "cell_type": "markdown",
   "metadata": {},
   "source": [
    "The second object is a matrix of  eiegnvectors, in corresponding order, so the one corresponding to the largest one is the last:"
   ]
  },
  {
   "cell_type": "code",
   "execution_count": 92,
   "metadata": {},
   "outputs": [
    {
     "data": {
      "text/plain": [
       "array([ 0.53514087,  0.32357372,  0.4579713 ,  0.4459099 , -0.14351294,\n",
       "        0.42397521])"
      ]
     },
     "execution_count": 92,
     "metadata": {},
     "output_type": "execute_result"
    }
   ],
   "source": [
    "evecs[:,5]"
   ]
  },
  {
   "cell_type": "markdown",
   "metadata": {},
   "source": [
    "Above, we said that we are interested in the eigenvector corresponding to the largest eigenvalue, that is the first in the list. Its elements are _weights_ of the various attributes, and we can see both positive weights (largest is the first one) and negative weights (fifth). "
   ]
  },
  {
   "cell_type": "markdown",
   "metadata": {},
   "source": [
    "Now remember that the SVD of a matrix $X$ gives you the eigenvectors of the matrix $X^TX$ and the corresponding singular values are the square roots of the corresponding eigenvalues. Let us verify this"
   ]
  },
  {
   "cell_type": "code",
   "execution_count": 10,
   "metadata": {},
   "outputs": [
    {
     "data": {
      "text/plain": [
       "((310, 310), (6,), (6, 6))"
      ]
     },
     "execution_count": 10,
     "metadata": {},
     "output_type": "execute_result"
    }
   ],
   "source": [
    "U,s,V = np.linalg.svd(X0)\n",
    "U.shape,s.shape,V.shape"
   ]
  },
  {
   "cell_type": "markdown",
   "metadata": {},
   "source": [
    "The matrices $U$ and $V$ contain the left and right singular vectors, and the array $s$ are the singular values"
   ]
  },
  {
   "cell_type": "code",
   "execution_count": 14,
   "metadata": {},
   "outputs": [
    {
     "data": {
      "text/plain": [
       "array([  1.00619043e+03,   3.70320971e+02,   2.35941802e+02,\n",
       "         1.46482960e+02,   1.01063819e+02,   1.53349544e-05])"
      ]
     },
     "execution_count": 14,
     "metadata": {},
     "output_type": "execute_result"
    }
   ],
   "source": [
    "s**2"
   ]
  },
  {
   "cell_type": "markdown",
   "metadata": {},
   "source": [
    "Note how the order of the singular values is reversed. $V$ contains the singular vectors we are interested in:"
   ]
  },
  {
   "cell_type": "code",
   "execution_count": 13,
   "metadata": {},
   "outputs": [
    {
     "data": {
      "text/plain": [
       "array([[ -5.35140872e-01,  -3.23573718e-01,  -4.57971304e-01,\n",
       "         -4.45909899e-01,   1.43512940e-01,  -4.23975209e-01],\n",
       "       [  2.17961800e-03,  -5.27573744e-01,  -9.28792528e-02,\n",
       "          3.96157537e-01,  -7.27735550e-01,  -1.62772271e-01],\n",
       "       [ -9.60744914e-02,  -6.48684038e-01,   1.52303832e-01,\n",
       "          3.60291749e-01,   5.86002159e-01,   2.71244501e-01],\n",
       "       [  1.02797461e-01,   6.38522687e-03,   5.48120310e-01,\n",
       "          1.27210907e-01,   1.74245827e-01,  -8.01505966e-01],\n",
       "       [ -4.23475683e-01,  -1.50555722e-01,   6.76759483e-01,\n",
       "         -4.31495354e-01,  -2.75762337e-01,   2.78863437e-01],\n",
       "       [ -7.17279733e-01,   4.16493956e-01,  -2.22931275e-06,\n",
       "          5.58607705e-01,   6.95399700e-06,  -1.76475063e-05]])"
      ]
     },
     "execution_count": 13,
     "metadata": {},
     "output_type": "execute_result"
    }
   ],
   "source": [
    "V"
   ]
  },
  {
   "cell_type": "markdown",
   "metadata": {},
   "source": [
    "Notice that the right singular eigenvectors are stored in $V$ as rows, e.g. the first row of $V$ matches the eigenvector above. "
   ]
  },
  {
   "cell_type": "markdown",
   "metadata": {},
   "source": [
    "## Viewing data in the eigenbasis"
   ]
  },
  {
   "cell_type": "markdown",
   "metadata": {},
   "source": [
    "Time for magic. Let us plot the data in the rotated coordinate system, whose axes are the first two eigenvectors. In order to do this, we create the components of the rotated data, which are calld _principal components_:"
   ]
  },
  {
   "cell_type": "code",
   "execution_count": 93,
   "metadata": {},
   "outputs": [],
   "source": [
    "X1 = np.matmul(X0,evecs[:,5])\n",
    "X2 = np.matmul(X0,evecs[:,4])"
   ]
  },
  {
   "cell_type": "code",
   "execution_count": 95,
   "metadata": {},
   "outputs": [
    {
     "data": {
      "image/png": "[encoded data removed]",
      "text/plain": [
       "<matplotlib.figure.Figure at 0x7f182f86d0d0>"
      ]
     },
     "metadata": {},
     "output_type": "display_data"
    }
   ],
   "source": [
    "scatter(X1[dh], X2[dh])\n",
    "scatter(X1[sl], X2[sl])\n",
    "scatter(X1[no], X2[no])\n",
    "xlabel(\"1st principal component\")\n",
    "ylabel(\"2nd principal component\")\n",
    "legend([\"DH\", \"SL\", \"NO\"])\n",
    "plt.show()"
   ]
  },
  {
   "cell_type": "markdown",
   "metadata": {},
   "source": [
    "Now the SL group separates quite cleanly from the DH and NO groups, with only a few outliers. Given how several of the weights in the first principal component are about the same size, we now undertand why considering a single or even a pair of attributes did not show such a clear picture. \n",
    "\n",
    "The DH and NO groups do not separate particularly well. We can take a look at the third principal component."
   ]
  },
  {
   "cell_type": "code",
   "execution_count": 55,
   "metadata": {},
   "outputs": [
    {
     "data": {
      "image/png": "[encoded data removed]",
      "text/plain": [
       "<Figure size 432x288 with 1 Axes>"
      ]
     },
     "metadata": {
      "needs_background": "light"
     },
     "output_type": "display_data"
    }
   ],
   "source": [
    "X3 = np.matmul(X0,evecs[:,3])\n",
    "scatter(X1[dh], X3[dh])\n",
    "scatter(X1[sl], X3[sl])\n",
    "scatter(X1[no], X3[no])\n",
    "xlabel(\"1st principal component\")\n",
    "ylabel(\"3rd principal component\")\n",
    "legend([\"DH\", \"SL\", \"NO\"])\n",
    "plt.show()"
   ]
  },
  {
   "cell_type": "markdown",
   "metadata": {},
   "source": [
    "The separation of the DH and NO groups is slightly better, but still not great. "
   ]
  },
  {
   "cell_type": "markdown",
   "metadata": {},
   "source": [
    "## A high dimensional example\n",
    "\n",
    "In the rest of the exercise, you will explore a much larger dataset using PCA. It is also a medical example from the same [data source](http://archive.ics.uci.edu/ml/datasets/gene+expression+cancer+RNA-Seq). Gene expression levels have been measured for ~20,000 genes in ~800 patients, who have one of five different types of tumors: BRCA, KIRC, COAD, LUAD and PRAD. Is it possible to predict the type of tumor by considering the gene expression levels?\n",
    "\n",
    "Use PCA to determine the linear combination of gene expression levels that allows the best separation of the five types of tumors. Save your work in the notebook, you will need it to complete the quiz on moodle later this Term. "
   ]
  },
  {
   "cell_type": "markdown",
   "metadata": {},
   "source": [
    "Start by loading the data (it may take a while!)"
   ]
  },
  {
   "cell_type": "code",
   "execution_count": 56,
   "metadata": {},
   "outputs": [],
   "source": [
    "X = np.genfromtxt('cancer-gene-data2.csv', delimiter=',')"
   ]
  },
  {
   "cell_type": "markdown",
   "metadata": {},
   "source": [
    "Originally there were more than 20,000 genes in the data set, and it would take quite a long time for your computer to solve such a large problem, so it was reduced by taking only every 2nd gene into account - hopefully we will not miss out on the important ones!"
   ]
  },
  {
   "cell_type": "code",
   "execution_count": 57,
   "metadata": {},
   "outputs": [],
   "source": [
    "n, m = X.shape"
   ]
  },
  {
   "cell_type": "markdown",
   "metadata": {},
   "source": [
    "So we have 801 patients, and left with 10266 genes. This time, the data is large, so do not form the $X^TX$ matrix, but use SVD straight away. Do not forget to normalise the data first. "
   ]
  },
  {
   "cell_type": "markdown",
   "metadata": {},
   "source": [
    "In this example, the tumor types are in a separate file, converted to numbers 1-5:"
   ]
  },
  {
   "cell_type": "code",
   "execution_count": 58,
   "metadata": {},
   "outputs": [
    {
     "data": {
      "text/plain": [
       "(801,)"
      ]
     },
     "execution_count": 58,
     "metadata": {},
     "output_type": "execute_result"
    }
   ],
   "source": [
    "tumor = np.genfromtxt('cancer-gene-labels.csv', delimiter=',') \n",
    "tumor.shape"
   ]
  },
  {
   "cell_type": "markdown",
   "metadata": {},
   "source": [
    "Generate lists of indices for different diagnoses:"
   ]
  },
  {
   "cell_type": "code",
   "execution_count": 59,
   "metadata": {},
   "outputs": [],
   "source": [
    "brca = [index for index,value in enumerate(tumor) if value == 1]\n",
    "kirc = [index for index,value in enumerate(tumor) if value == 2]\n",
    "coad = [index for index,value in enumerate(tumor) if value == 3]\n",
    "luad = [index for index,value in enumerate(tumor) if value == 4]\n",
    "prad = [index for index,value in enumerate(tumor) if value == 5]"
   ]
  },
  {
   "cell_type": "markdown",
   "metadata": {},
   "source": [
    "Redefine normalise function here for completeness:"
   ]
  },
  {
   "cell_type": "code",
   "execution_count": 60,
   "metadata": {},
   "outputs": [],
   "source": [
    "def normalise(x):\n",
    "    ndata,ndim = x.shape # obtain the number of rows and columns\n",
    "    m = x.sum(axis=0)     # compute the sum along each column, and collect it into a vector\n",
    "    #print m\n",
    "    x0 = x - m[np.newaxis,:]/ndata # subtract the sum divided by the number of rows from each element\n",
    "                                   # the \"np.newaxis\" construct creates identical rows from the same mean value\n",
    "\n",
    "    s = np.sqrt((x0**2).sum(axis=0)/ndata) # now compute the standard deviation of each column\n",
    "    #print x\n",
    "    #print s\n",
    "    ss = np.array([ tmp if tmp != 0 else 1 for tmp in s]) # if the standard deviation is zero, replace it with 1\n",
    "                                                       # to avoid division by zero error\n",
    "    x00 = x0 / ss[np.newaxis,:]    # divide each element by the corresponding standard deviation\n",
    "    return x00                     # return the normalised data matrix"
   ]
  },
  {
   "cell_type": "markdown",
   "metadata": {},
   "source": [
    "Generate normalised matrix and then find SVD:"
   ]
  },
  {
   "cell_type": "code",
   "execution_count": 61,
   "metadata": {},
   "outputs": [],
   "source": [
    "X0 = normalise(X) # Full matrix as diagnoses are in a separate file\n",
    "U,s,V = np.linalg.svd(X0)"
   ]
  },
  {
   "cell_type": "markdown",
   "metadata": {},
   "source": [
    "Find principal axes:"
   ]
  },
  {
   "cell_type": "code",
   "execution_count": 66,
   "metadata": {},
   "outputs": [],
   "source": [
    "X1 = np.matmul(X0,V[:,0]) \n",
    "X2 = np.matmul(X0,V[:,1])\n",
    "X3 = np.matmul(X0,V[:,2]) \n",
    "X4 = np.matmul(X0,V[:,3]) "
   ]
  },
  {
   "cell_type": "markdown",
   "metadata": {},
   "source": [
    "Generate plot:"
   ]
  },
  {
   "cell_type": "code",
   "execution_count": 67,
   "metadata": {},
   "outputs": [
    {
     "data": {
      "image/png": "[encoded data removed]",
      "text/plain": [
       "<Figure size 432x288 with 1 Axes>"
      ]
     },
     "metadata": {
      "needs_background": "light"
     },
     "output_type": "display_data"
    }
   ],
   "source": [
    "scatter(X1[brca], X2[brca])\n",
    "scatter(X1[kirc], X2[kirc])\n",
    "scatter(X1[coad], X2[coad])\n",
    "scatter(X1[luad], X2[luad])\n",
    "scatter(X1[prad], X2[prad])\n",
    "xlabel(\"1st principal component\")\n",
    "ylabel(\"2nd principal component\")\n",
    "legend([\"BRCA\", \"KIRC\", \"COAD\", \"LUAD\", \"PRAD\"])\n",
    "plt.show()"
   ]
  },
  {
   "cell_type": "code",
   "execution_count": null,
   "metadata": {},
   "outputs": [],
   "source": []
  }
 ],
 "metadata": {
  "kernelspec": {
   "display_name": "Python 3",
   "language": "python",
   "name": "python3"
  },
  "language_info": {
   "codemirror_mode": {
    "name": "ipython",
    "version": 3
   },
   "file_extension": ".py",
   "mimetype": "text/x-python",
   "name": "python",
   "nbconvert_exporter": "python",
   "pygments_lexer": "ipython3",
   "version": "3.7.5"
  },
  "pycharm": {
   "stem_cell": {
    "cell_type": "raw",
    "metadata": {
     "collapsed": false
    },
    "source": []
   }
  }
 },
 "nbformat": 4,
 "nbformat_minor": 2
}
